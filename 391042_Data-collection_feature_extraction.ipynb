{
 "cells": [
  {
   "cell_type": "code",
   "execution_count": null,
   "metadata": {},
   "outputs": [
    {
     "name": "stderr",
     "output_type": "stream",
     "text": [
      "C:\\Users\\Admin\\AppData\\Local\\Temp\\ipykernel_8324\\3054961086.py:2: DtypeWarning: Columns (1,4,5,6,7,8) have mixed types. Specify dtype option on import or set low_memory=False.\n",
      "  df = pd.read_csv('disease_data (1).csv')\n"
     ]
    },
    {
     "data": {
      "text/html": [
       "<div>\n",
       "<style scoped>\n",
       "    .dataframe tbody tr th:only-of-type {\n",
       "        vertical-align: middle;\n",
       "    }\n",
       "\n",
       "    .dataframe tbody tr th {\n",
       "        vertical-align: top;\n",
       "    }\n",
       "\n",
       "    .dataframe thead th {\n",
       "        text-align: right;\n",
       "    }\n",
       "</style>\n",
       "<table border=\"1\" class=\"dataframe\">\n",
       "  <thead>\n",
       "    <tr style=\"text-align: right;\">\n",
       "      <th></th>\n",
       "      <th>Disease</th>\n",
       "      <th>Overview</th>\n",
       "      <th>Symptoms</th>\n",
       "      <th>When to See Doctor</th>\n",
       "      <th>Causes</th>\n",
       "      <th>Risk Factor</th>\n",
       "      <th>Complications</th>\n",
       "      <th>Preventions</th>\n",
       "      <th>Link</th>\n",
       "    </tr>\n",
       "  </thead>\n",
       "  <tbody>\n",
       "    <tr>\n",
       "      <th>0</th>\n",
       "      <td>Abdominal aortic aneurysm</td>\n",
       "      <td>An abdominal aortic aneurysm is an enlarged ar...</td>\n",
       "      <td>Abdominal aortic aneurysms often grow slowly w...</td>\n",
       "      <td>NaN</td>\n",
       "      <td>Aneurysms can develop anywhere along the aorta...</td>\n",
       "      <td>Abdominal aortic aneurysm risk factors include...</td>\n",
       "      <td>Complications of abdominal aortic aneurysms in...</td>\n",
       "      <td>To prevent an abdominal aortic aneurysm or to ...</td>\n",
       "      <td>https://www.mayoclinic.org/diseases-conditions...</td>\n",
       "    </tr>\n",
       "    <tr>\n",
       "      <th>1</th>\n",
       "      <td>Acanthosis nigricans</td>\n",
       "      <td>Acanthosis nigricans is a condition that cause...</td>\n",
       "      <td>The main sign of acanthosis nigricans is dark,...</td>\n",
       "      <td>NaN</td>\n",
       "      <td>Acanthosis nigricans might be related to:</td>\n",
       "      <td>NaN</td>\n",
       "      <td>People who have acanthosis nigricans are much ...</td>\n",
       "      <td>NaN</td>\n",
       "      <td>https://www.mayoclinic.org/diseases-conditions...</td>\n",
       "    </tr>\n",
       "    <tr>\n",
       "      <th>2</th>\n",
       "      <td>Achalasia</td>\n",
       "      <td>Achalasia is a swallowing condition that affec...</td>\n",
       "      <td>Achalasia symptoms generally appear gradually ...</td>\n",
       "      <td>NaN</td>\n",
       "      <td>The exact cause of achalasia is poorly underst...</td>\n",
       "      <td>Risk factors for achalasia include:</td>\n",
       "      <td>NaN</td>\n",
       "      <td>NaN</td>\n",
       "      <td>https://www.mayoclinic.org/diseases-conditions...</td>\n",
       "    </tr>\n",
       "    <tr>\n",
       "      <th>3</th>\n",
       "      <td>Achilles tendinitis</td>\n",
       "      <td>Achilles tendinitis is an overuse injury of th...</td>\n",
       "      <td>The pain associated with Achilles tendinitis t...</td>\n",
       "      <td>NaN</td>\n",
       "      <td>Achilles tendinitis is caused by repetitive or...</td>\n",
       "      <td>NaN</td>\n",
       "      <td>Achilles tendinitis can weaken the tendon, mak...</td>\n",
       "      <td>NaN</td>\n",
       "      <td>https://www.mayoclinic.org/diseases-conditions...</td>\n",
       "    </tr>\n",
       "    <tr>\n",
       "      <th>4</th>\n",
       "      <td>Achilles tendon rupture</td>\n",
       "      <td>Achilles (uh-KILL-eez) tendon rupture is an in...</td>\n",
       "      <td>Although it's possible to have no signs or sym...</td>\n",
       "      <td>NaN</td>\n",
       "      <td>Your Achilles tendon helps you point your foot...</td>\n",
       "      <td>Factors that may increase your risk of Achille...</td>\n",
       "      <td>NaN</td>\n",
       "      <td>To reduce your chance of developing Achilles t...</td>\n",
       "      <td>https://www.mayoclinic.org/diseases-conditions...</td>\n",
       "    </tr>\n",
       "  </tbody>\n",
       "</table>\n",
       "</div>"
      ],
      "text/plain": [
       "                     Disease  \\\n",
       "0  Abdominal aortic aneurysm   \n",
       "1       Acanthosis nigricans   \n",
       "2                  Achalasia   \n",
       "3        Achilles tendinitis   \n",
       "4    Achilles tendon rupture   \n",
       "\n",
       "                                            Overview  \\\n",
       "0  An abdominal aortic aneurysm is an enlarged ar...   \n",
       "1  Acanthosis nigricans is a condition that cause...   \n",
       "2  Achalasia is a swallowing condition that affec...   \n",
       "3  Achilles tendinitis is an overuse injury of th...   \n",
       "4  Achilles (uh-KILL-eez) tendon rupture is an in...   \n",
       "\n",
       "                                            Symptoms  When to See Doctor  \\\n",
       "0  Abdominal aortic aneurysms often grow slowly w...                 NaN   \n",
       "1  The main sign of acanthosis nigricans is dark,...                 NaN   \n",
       "2  Achalasia symptoms generally appear gradually ...                 NaN   \n",
       "3  The pain associated with Achilles tendinitis t...                 NaN   \n",
       "4  Although it's possible to have no signs or sym...                 NaN   \n",
       "\n",
       "                                              Causes  \\\n",
       "0  Aneurysms can develop anywhere along the aorta...   \n",
       "1          Acanthosis nigricans might be related to:   \n",
       "2  The exact cause of achalasia is poorly underst...   \n",
       "3  Achilles tendinitis is caused by repetitive or...   \n",
       "4  Your Achilles tendon helps you point your foot...   \n",
       "\n",
       "                                         Risk Factor  \\\n",
       "0  Abdominal aortic aneurysm risk factors include...   \n",
       "1                                                NaN   \n",
       "2               Risk factors for achalasia include:    \n",
       "3                                                NaN   \n",
       "4  Factors that may increase your risk of Achille...   \n",
       "\n",
       "                                       Complications  \\\n",
       "0  Complications of abdominal aortic aneurysms in...   \n",
       "1  People who have acanthosis nigricans are much ...   \n",
       "2                                                NaN   \n",
       "3  Achilles tendinitis can weaken the tendon, mak...   \n",
       "4                                                NaN   \n",
       "\n",
       "                                         Preventions  \\\n",
       "0  To prevent an abdominal aortic aneurysm or to ...   \n",
       "1                                                NaN   \n",
       "2                                                NaN   \n",
       "3                                                NaN   \n",
       "4  To reduce your chance of developing Achilles t...   \n",
       "\n",
       "                                                Link  \n",
       "0  https://www.mayoclinic.org/diseases-conditions...  \n",
       "1  https://www.mayoclinic.org/diseases-conditions...  \n",
       "2  https://www.mayoclinic.org/diseases-conditions...  \n",
       "3  https://www.mayoclinic.org/diseases-conditions...  \n",
       "4  https://www.mayoclinic.org/diseases-conditions...  "
      ]
     },
     "execution_count": 2,
     "metadata": {},
     "output_type": "execute_result"
    }
   ],
   "source": [
    "import pandas as pd \n",
    "df = pd.read_csv('disease_data (1).csv')\n",
    "df.head()"
   ]
  },
  {
   "cell_type": "code",
   "execution_count": null,
   "metadata": {},
   "outputs": [
    {
     "data": {
      "text/plain": [
       "(253851, 9)"
      ]
     },
     "execution_count": 2,
     "metadata": {},
     "output_type": "execute_result"
    }
   ],
   "source": [
    "df.shape"
   ]
  },
  {
   "cell_type": "code",
   "execution_count": null,
   "metadata": {},
   "outputs": [
    {
     "data": {
      "text/plain": [
       "Disease\n",
       "cystitis                          1219\n",
       "nose disorder                     1218\n",
       "vulvodynia                        1218\n",
       "complex regional pain syndrome    1217\n",
       "spondylosis                       1216\n",
       "                                  ... \n",
       "Adnexal tumors                       1\n",
       "Abdominal aortic aneurysm            1\n",
       "Pericarditis                         1\n",
       "Pneumonitis                          1\n",
       "Adenomyosis                          1\n",
       "Name: count, Length: 2723, dtype: int64"
      ]
     },
     "execution_count": 3,
     "metadata": {},
     "output_type": "execute_result"
    }
   ],
   "source": [
    "df['Disease'].value_counts()"
   ]
  },
  {
   "cell_type": "code",
   "execution_count": 4,
   "metadata": {},
   "outputs": [
    {
     "data": {
      "text/plain": [
       "<bound method NDFrame.describe of                           Disease  \\\n",
       "0       Abdominal aortic aneurysm   \n",
       "1            Acanthosis nigricans   \n",
       "2                       Achalasia   \n",
       "3             Achilles tendinitis   \n",
       "4         Achilles tendon rupture   \n",
       "...                           ...   \n",
       "253846               Tuberculosis   \n",
       "253847                    Typhoid   \n",
       "253848    Urinary tract infection   \n",
       "253849             Varicose veins   \n",
       "253850                hepatitis A   \n",
       "\n",
       "                                                 Overview  \\\n",
       "0       An abdominal aortic aneurysm is an enlarged ar...   \n",
       "1       Acanthosis nigricans is a condition that cause...   \n",
       "2       Achalasia is a swallowing condition that affec...   \n",
       "3       Achilles tendinitis is an overuse injury of th...   \n",
       "4       Achilles (uh-KILL-eez) tendon rupture is an in...   \n",
       "...                                                   ...   \n",
       "253846                                                NaN   \n",
       "253847                                                NaN   \n",
       "253848                                                NaN   \n",
       "253849                                                NaN   \n",
       "253850                                                NaN   \n",
       "\n",
       "                                                 Symptoms  When to See Doctor  \\\n",
       "0       Abdominal aortic aneurysms often grow slowly w...                 NaN   \n",
       "1       The main sign of acanthosis nigricans is dark,...                 NaN   \n",
       "2       Achalasia symptoms generally appear gradually ...                 NaN   \n",
       "3       The pain associated with Achilles tendinitis t...                 NaN   \n",
       "4       Although it's possible to have no signs or sym...                 NaN   \n",
       "...                                                   ...                 ...   \n",
       "253846   chills,  chills,  vomiting,  chills,  chills,...                 NaN   \n",
       "253847   chills,  chills,  chills,  chills,  chills,  ...                 NaN   \n",
       "253848   burning_micturition,  burning_micturition,  b...                 NaN   \n",
       "253849   fatigue,  fatigue,  cramps,  fatigue,  fatigu...                 NaN   \n",
       "253850   joint_pain,  joint_pain,  vomiting,  joint_pa...                 NaN   \n",
       "\n",
       "                                                   Causes  \\\n",
       "0       Aneurysms can develop anywhere along the aorta...   \n",
       "1               Acanthosis nigricans might be related to:   \n",
       "2       The exact cause of achalasia is poorly underst...   \n",
       "3       Achilles tendinitis is caused by repetitive or...   \n",
       "4       Your Achilles tendon helps you point your foot...   \n",
       "...                                                   ...   \n",
       "253846                                                NaN   \n",
       "253847                                                NaN   \n",
       "253848                                                NaN   \n",
       "253849                                                NaN   \n",
       "253850                                                NaN   \n",
       "\n",
       "                                              Risk Factor  \\\n",
       "0       Abdominal aortic aneurysm risk factors include...   \n",
       "1                                                     NaN   \n",
       "2                    Risk factors for achalasia include:    \n",
       "3                                                     NaN   \n",
       "4       Factors that may increase your risk of Achille...   \n",
       "...                                                   ...   \n",
       "253846                                                NaN   \n",
       "253847                                                NaN   \n",
       "253848                                                NaN   \n",
       "253849                                                NaN   \n",
       "253850                                                NaN   \n",
       "\n",
       "                                            Complications  \\\n",
       "0       Complications of abdominal aortic aneurysms in...   \n",
       "1       People who have acanthosis nigricans are much ...   \n",
       "2                                                     NaN   \n",
       "3       Achilles tendinitis can weaken the tendon, mak...   \n",
       "4                                                     NaN   \n",
       "...                                                   ...   \n",
       "253846                                                NaN   \n",
       "253847                                                NaN   \n",
       "253848                                                NaN   \n",
       "253849                                                NaN   \n",
       "253850                                                NaN   \n",
       "\n",
       "                                              Preventions  \\\n",
       "0       To prevent an abdominal aortic aneurysm or to ...   \n",
       "1                                                     NaN   \n",
       "2                                                     NaN   \n",
       "3                                                     NaN   \n",
       "4       To reduce your chance of developing Achilles t...   \n",
       "...                                                   ...   \n",
       "253846                                                NaN   \n",
       "253847                                                NaN   \n",
       "253848                                                NaN   \n",
       "253849                                                NaN   \n",
       "253850                                                NaN   \n",
       "\n",
       "                                                     Link  \n",
       "0       https://www.mayoclinic.org/diseases-conditions...  \n",
       "1       https://www.mayoclinic.org/diseases-conditions...  \n",
       "2       https://www.mayoclinic.org/diseases-conditions...  \n",
       "3       https://www.mayoclinic.org/diseases-conditions...  \n",
       "4       https://www.mayoclinic.org/diseases-conditions...  \n",
       "...                                                   ...  \n",
       "253846                                                NaN  \n",
       "253847                                                NaN  \n",
       "253848                                                NaN  \n",
       "253849                                                NaN  \n",
       "253850                                                NaN  \n",
       "\n",
       "[253851 rows x 9 columns]>"
      ]
     },
     "execution_count": 4,
     "metadata": {},
     "output_type": "execute_result"
    }
   ],
   "source": [
    "df.describe"
   ]
  },
  {
   "cell_type": "code",
   "execution_count": 4,
   "metadata": {},
   "outputs": [],
   "source": [
    "df_main = df[ ['Disease' , 'Symptoms'] ]"
   ]
  },
  {
   "cell_type": "code",
   "execution_count": 9,
   "metadata": {},
   "outputs": [
    {
     "data": {
      "text/html": [
       "<div>\n",
       "<style scoped>\n",
       "    .dataframe tbody tr th:only-of-type {\n",
       "        vertical-align: middle;\n",
       "    }\n",
       "\n",
       "    .dataframe tbody tr th {\n",
       "        vertical-align: top;\n",
       "    }\n",
       "\n",
       "    .dataframe thead th {\n",
       "        text-align: right;\n",
       "    }\n",
       "</style>\n",
       "<table border=\"1\" class=\"dataframe\">\n",
       "  <thead>\n",
       "    <tr style=\"text-align: right;\">\n",
       "      <th></th>\n",
       "      <th>Disease</th>\n",
       "      <th>Symptoms</th>\n",
       "    </tr>\n",
       "  </thead>\n",
       "  <tbody>\n",
       "    <tr>\n",
       "      <th>0</th>\n",
       "      <td>Abdominal aortic aneurysm</td>\n",
       "      <td>Abdominal aortic aneurysms often grow slowly w...</td>\n",
       "    </tr>\n",
       "    <tr>\n",
       "      <th>1</th>\n",
       "      <td>Acanthosis nigricans</td>\n",
       "      <td>The main sign of acanthosis nigricans is dark,...</td>\n",
       "    </tr>\n",
       "    <tr>\n",
       "      <th>2</th>\n",
       "      <td>Achalasia</td>\n",
       "      <td>Achalasia symptoms generally appear gradually ...</td>\n",
       "    </tr>\n",
       "  </tbody>\n",
       "</table>\n",
       "</div>"
      ],
      "text/plain": [
       "                     Disease  \\\n",
       "0  Abdominal aortic aneurysm   \n",
       "1       Acanthosis nigricans   \n",
       "2                  Achalasia   \n",
       "\n",
       "                                            Symptoms  \n",
       "0  Abdominal aortic aneurysms often grow slowly w...  \n",
       "1  The main sign of acanthosis nigricans is dark,...  \n",
       "2  Achalasia symptoms generally appear gradually ...  "
      ]
     },
     "execution_count": 9,
     "metadata": {},
     "output_type": "execute_result"
    }
   ],
   "source": [
    "df_main.head(3)"
   ]
  },
  {
   "cell_type": "code",
   "execution_count": 10,
   "metadata": {},
   "outputs": [
    {
     "data": {
      "text/plain": [
       "np.int64(0)"
      ]
     },
     "execution_count": 10,
     "metadata": {},
     "output_type": "execute_result"
    }
   ],
   "source": [
    "df['Disease'].isnull().sum()"
   ]
  },
  {
   "cell_type": "code",
   "execution_count": 11,
   "metadata": {},
   "outputs": [
    {
     "data": {
      "text/plain": [
       "np.int64(33)"
      ]
     },
     "execution_count": 11,
     "metadata": {},
     "output_type": "execute_result"
    }
   ],
   "source": [
    "df['Symptoms'].isnull().sum()"
   ]
  },
  {
   "cell_type": "code",
   "execution_count": 19,
   "metadata": {},
   "outputs": [],
   "source": [
    "df_main = df_main.dropna(subset = ['Symptoms'])"
   ]
  },
  {
   "cell_type": "code",
   "execution_count": 20,
   "metadata": {},
   "outputs": [
    {
     "data": {
      "text/plain": [
       "np.int64(0)"
      ]
     },
     "execution_count": 20,
     "metadata": {},
     "output_type": "execute_result"
    }
   ],
   "source": [
    "df_main['Symptoms'].isnull().sum()"
   ]
  },
  {
   "cell_type": "code",
   "execution_count": 21,
   "metadata": {},
   "outputs": [
    {
     "data": {
      "text/plain": [
       "Disease\n",
       "cystitis                          1219\n",
       "vulvodynia                        1218\n",
       "nose disorder                     1218\n",
       "complex regional pain syndrome    1217\n",
       "spondylosis                       1216\n",
       "                                  ... \n",
       "fracture of the rib                882\n",
       "pulmonary embolism                 880\n",
       "seborrheic dermatitis              880\n",
       "seborrheic keratosis               870\n",
       "dry eye of unknown cause           861\n",
       "Name: count, Length: 114, dtype: int64"
      ]
     },
     "execution_count": 21,
     "metadata": {},
     "output_type": "execute_result"
    }
   ],
   "source": [
    "df_main['Disease'].value_counts()[df_main['Disease'].value_counts()>700]"
   ]
  },
  {
   "cell_type": "code",
   "execution_count": 41,
   "metadata": {},
   "outputs": [
    {
     "data": {
      "text/plain": [
       "np.int64(100104)"
      ]
     },
     "execution_count": 41,
     "metadata": {},
     "output_type": "execute_result"
    }
   ],
   "source": [
    "df_main['Disease'].value_counts()[df_main['Disease'].value_counts()>900].sum()"
   ]
  },
  {
   "cell_type": "code",
   "execution_count": 42,
   "metadata": {},
   "outputs": [],
   "source": [
    "# Filter diseases that have more than 1215 occurrences\n",
    "disease_counts = df_main['Disease'].value_counts()\n",
    "filtered_diseases = disease_counts[disease_counts > 900].index\n",
    "df_filtered = df_main[df_main['Disease'].isin(filtered_diseases)]"
   ]
  },
  {
   "cell_type": "code",
   "execution_count": 18,
   "metadata": {},
   "outputs": [],
   "source": [
    "df_filtered.shape\n",
    "df_filtered.to_csv(\"filtered_disease_dataset.csv\", index=False)"
   ]
  },
  {
   "cell_type": "code",
   "execution_count": 43,
   "metadata": {},
   "outputs": [
    {
     "data": {
      "text/plain": [
       "(98,)"
      ]
     },
     "execution_count": 43,
     "metadata": {},
     "output_type": "execute_result"
    }
   ],
   "source": [
    "df_filtered['Disease'].value_counts().shape"
   ]
  },
  {
   "cell_type": "code",
   "execution_count": 40,
   "metadata": {},
   "outputs": [
    {
     "data": {
      "text/plain": [
       "np.int64(44748)"
      ]
     },
     "execution_count": 40,
     "metadata": {},
     "output_type": "execute_result"
    }
   ],
   "source": [
    "df_filtered['Disease'].value_counts().sum()"
   ]
  },
  {
   "cell_type": "code",
   "execution_count": 44,
   "metadata": {},
   "outputs": [
    {
     "data": {
      "text/plain": [
       "Index(['cystitis', 'vulvodynia', 'nose disorder',\n",
       "       'complex regional pain syndrome', 'spondylosis', 'hypoglycemia',\n",
       "       'vaginal cyst', 'esophagitis', 'conjunctivitis due to allergy',\n",
       "       'peripheral nerve disorder', 'diverticulitis',\n",
       "       'gastrointestinal hemorrhage', 'acute bronchitis', 'pneumonia',\n",
       "       'infectious gastroenteritis', 'sprain or strain',\n",
       "       'spontaneous abortion', 'fungal infection of the hair', 'gout',\n",
       "       'strep throat', 'marijuana abuse', 'arthritis of the hip',\n",
       "       'liver disease', 'injury to the arm', 'bursitis', 'spinal stenosis',\n",
       "       'eczema', 'acute pancreatitis', 'injury to the leg',\n",
       "       'benign prostatic hyperplasia (bph)', 'noninfectious gastroenteritis',\n",
       "       'cholecystitis', 'acute bronchiolitis', 'anxiety',\n",
       "       'obstructive sleep apnea (osa)', 'concussion', 'dental caries',\n",
       "       'problem during pregnancy', 'sickle cell crisis', 'sebaceous cyst',\n",
       "       'chronic constipation', 'hyperemesis gravidarum', 'psoriasis',\n",
       "       'depression', 'pyogenic skin infection', 'developmental disability',\n",
       "       'personality disorder', 'urinary tract infection',\n",
       "       'acute stress reaction', 'seasonal allergies (hay fever)',\n",
       "       'multiple sclerosis', 'otitis media', 'panic disorder',\n",
       "       'conjunctivitis', 'contact dermatitis', 'sinus bradycardia',\n",
       "       'skin pigmentation disorder',\n",
       "       'eustachian tube dysfunction (ear disorder)', 'macular degeneration',\n",
       "       'sepsis', 'degenerative disc disease', 'vaginitis', 'drug reaction',\n",
       "       'actinic keratosis', 'pain after an operation', 'acute kidney injury',\n",
       "       'hemorrhoids', 'herniated disk', 'idiopathic irregular menstrual cycle',\n",
       "       'stye', 'brachial neuritis', 'ear drum damage', 'heart attack',\n",
       "       'angina', 'chronic obstructive pulmonary disease (copd)',\n",
       "       'acute sinusitis', 'idiopathic painful menstruation', 'blepharitis',\n",
       "       'idiopathic excessive menstruation', 'hiatal hernia',\n",
       "       'acute bronchospasm', 'allergy', 'injury to the trunk', 'common cold',\n",
       "       'threatened pregnancy', 'asthma', 'otitis externa (swimmer's ear)',\n",
       "       'gallstone', 'kidney stone', 'croup', 'cornea infection',\n",
       "       'pyelonephritis', 'heart failure', 'appendicitis',\n",
       "       'hypertensive heart disease', 'rectal disorder', 'psychotic disorder',\n",
       "       'neurosis'],\n",
       "      dtype='object', name='Disease')"
      ]
     },
     "execution_count": 44,
     "metadata": {},
     "output_type": "execute_result"
    }
   ],
   "source": [
    "df_filtered['Disease'].value_counts().index"
   ]
  },
  {
   "cell_type": "code",
   "execution_count": 57,
   "metadata": {},
   "outputs": [],
   "source": [
    "selected_diseases = [\n",
    "    'complex regional pain syndrome', 'concussion', 'personality disorder',\n",
    "    'acute stress reaction', 'panic disorder', 'psychotic disorder',\n",
    "    'neurosis', 'depression', 'anxiety', 'developmental disability',\n",
    "    'brachial neuritis', 'acute bronchitis', 'pneumonia', 'acute bronchiolitis',\n",
    "    'obstructive sleep apnea (osa)', 'chronic obstructive pulmonary disease (copd)',\n",
    "    'acute sinusitis', 'acute bronchospasm', 'asthma', 'common cold', 'croup','nose disorder', 'conjunctivitis due to allergy', 'otitis media',\n",
    "    'conjunctivitis', 'eustachian tube dysfunction (ear disorder)', 'stye',\n",
    "    'ear drum damage', 'blepharitis', 'otitis externa (swimmer\\'s ear)',\n",
    "    'cornea infection'\n",
    "]"
   ]
  },
  {
   "cell_type": "code",
   "execution_count": 58,
   "metadata": {},
   "outputs": [],
   "source": [
    "\n",
    "\n",
    "\n",
    "# Assuming the disease column is named \"Disease\" (change it if needed)\n",
    "filtered_df =df_filtered[df_filtered['Disease'].isin(selected_diseases)]"
   ]
  },
  {
   "cell_type": "code",
   "execution_count": 59,
   "metadata": {},
   "outputs": [
    {
     "data": {
      "text/plain": [
       "(30815, 2)"
      ]
     },
     "execution_count": 59,
     "metadata": {},
     "output_type": "execute_result"
    }
   ],
   "source": [
    "filtered_df.shape"
   ]
  },
  {
   "cell_type": "code",
   "execution_count": 60,
   "metadata": {},
   "outputs": [],
   "source": [
    "filtered_df.to_csv('ENT_respiratory_neurological.csv')"
   ]
  }
 ],
 "metadata": {
  "kernelspec": {
   "display_name": ".venv",
   "language": "python",
   "name": "python3"
  },
  "language_info": {
   "codemirror_mode": {
    "name": "ipython",
    "version": 3
   },
   "file_extension": ".py",
   "mimetype": "text/x-python",
   "name": "python",
   "nbconvert_exporter": "python",
   "pygments_lexer": "ipython3",
   "version": "3.8.0"
  }
 },
 "nbformat": 4,
 "nbformat_minor": 2
}
